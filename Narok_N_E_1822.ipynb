{
 "cells": [
  {
   "cell_type": "code",
   "execution_count": 24,
   "id": "2615eeed-64c6-4a2d-985a-5a2c10c1b36f",
   "metadata": {},
   "outputs": [],
   "source": [
    "# Importing Libraries\n",
    "\n",
    "import os\n",
    "import re\n",
    "import datetime\n",
    "import rasterio\n",
    "import numpy as np\n",
    "import multiprocessing as mp\n",
    "from multiprocessing import Pool\n",
    "import matplotlib.pyplot as plt\n",
    "import pickle"
   ]
  },
  {
   "cell_type": "code",
   "execution_count": 2,
   "id": "b6992a23-dbf1-4671-9dfd-00ce4fed6249",
   "metadata": {},
   "outputs": [
    {
     "name": "stdout",
     "output_type": "stream",
     "text": [
      "[datetime.datetime(2018, 1, 1, 0, 0), datetime.datetime(2018, 2, 1, 0, 0), datetime.datetime(2018, 3, 1, 0, 0), datetime.datetime(2018, 4, 1, 0, 0), datetime.datetime(2018, 5, 1, 0, 0), datetime.datetime(2018, 6, 1, 0, 0), datetime.datetime(2018, 7, 1, 0, 0), datetime.datetime(2018, 8, 1, 0, 0), datetime.datetime(2018, 9, 1, 0, 0), datetime.datetime(2018, 10, 1, 0, 0), datetime.datetime(2018, 11, 1, 0, 0), datetime.datetime(2018, 12, 1, 0, 0)] 12\n"
     ]
    }
   ],
   "source": [
    "### Monthly mosaics with 3 bands\n",
    "directory_2018 = \"data/Busia/mVIs_Narok_North_East_monthly_2018_35\"\n",
    "\n",
    "# Get a list of all the TIFF files in the directory\n",
    "tiff_files_2018 = sorted([os.path.join(directory_2018, file) for file in os.listdir(directory_2018) if file.endswith(\".tif\")])\n",
    "\n",
    "# Extract the dates from the TIFF filenames\n",
    "dates_2018 = []\n",
    "for file in tiff_files_2018:\n",
    "    # Extract the date from the filename\n",
    "    basename = os.path.basename(file)\n",
    "    start_date = re.search(\"([0-9]{4}\\_[0-9]{2})\", basename)\n",
    "    if start_date:\n",
    "        date_str = start_date.group(1)\n",
    "        # Convert the date string to a datetime object\n",
    "        date = datetime.datetime.strptime(date_str, '%Y_%m')\n",
    "        dates_2018.append(date)\n",
    "    else:\n",
    "        print(f\"Skipping {file} due to invalid date format in filename.\")\n",
    "\n",
    "dates_2018 = sorted(dates_2018)        \n",
    "print(dates_2018, len(dates_2018))"
   ]
  },
  {
   "cell_type": "code",
   "execution_count": 3,
   "id": "5742f2b5-caf9-4d0e-913c-cddff4ecca7c",
   "metadata": {},
   "outputs": [
    {
     "name": "stdout",
     "output_type": "stream",
     "text": [
      "[datetime.datetime(2022, 1, 1, 0, 0), datetime.datetime(2022, 2, 1, 0, 0), datetime.datetime(2022, 3, 1, 0, 0), datetime.datetime(2022, 4, 1, 0, 0), datetime.datetime(2022, 5, 1, 0, 0), datetime.datetime(2022, 6, 1, 0, 0), datetime.datetime(2022, 7, 1, 0, 0), datetime.datetime(2022, 8, 1, 0, 0), datetime.datetime(2022, 9, 1, 0, 0), datetime.datetime(2022, 10, 1, 0, 0), datetime.datetime(2022, 11, 1, 0, 0), datetime.datetime(2022, 12, 1, 0, 0)] 12\n"
     ]
    }
   ],
   "source": [
    "directory_2022 = \"data/Busia/mVIs_Narok_North_East_monthly_2022\"\n",
    "tiff_files_2022 = sorted([os.path.join(directory_2022, file) for file in os.listdir(directory_2022) if file.endswith(\".tif\")])\n",
    "\n",
    "# Extract the dates from the TIFF filenames\n",
    "dates_2022 = []\n",
    "for file in tiff_files_2022:\n",
    "    # Extract the date from the filename\n",
    "    basename = os.path.basename(file)\n",
    "    start_date = re.search(\"([0-9]{4}\\_[0-9]{2})\", basename)\n",
    "    if start_date:\n",
    "        date_str = start_date.group(1)\n",
    "        # Convert the date string to a datetime object\n",
    "        date = datetime.datetime.strptime(date_str, '%Y_%m')\n",
    "        dates_2022.append(date)\n",
    "    else:\n",
    "        print(f\"Skipping {file} due to invalid date format in filename.\")\n",
    "\n",
    "dates_2022 = sorted(dates_2022)        \n",
    "print(dates_2022, len(dates_2022))"
   ]
  },
  {
   "cell_type": "code",
   "execution_count": 4,
   "id": "f61eaeac-be06-44af-b9de-8307e3aef13d",
   "metadata": {},
   "outputs": [
    {
     "name": "stdout",
     "output_type": "stream",
     "text": [
      "(12, 3, 11289, 9467)\n"
     ]
    }
   ],
   "source": [
    "# Getting the maximum number of cpu of the clustter\n",
    "num_processes = mp.cpu_count()\n",
    "\n",
    "\n",
    "# Define a function to read data from a single file\n",
    "def read_data(file):\n",
    "    with rasterio.open(file) as src:\n",
    "        data = src.read()\n",
    "        data = np.nan_to_num(data, nan=np.nan, posinf=np.nan, neginf=np.nan)\n",
    "        return data\n",
    "\n",
    "# Create a pool of worker processes\n",
    "# num_processes = 140  # Change this to adjust the number of processes used\n",
    "\n",
    "with Pool(num_processes) as pool:\n",
    "    # Apply the read_data() function to each file in parallel\n",
    "    data_arrays_2018 = pool.map(read_data, tiff_files_2018)\n",
    "\n",
    "# Stack the data arrays along a new axis to create the datacube\n",
    "datacube_2018 = np.stack(data_arrays_2018, axis=0)\n",
    "print(datacube_2018.shape)\n",
    "\n",
    "NDVI_stack_2018 = datacube_2018[:,0,:,:]"
   ]
  },
  {
   "cell_type": "code",
   "execution_count": 5,
   "id": "76fb3e14-3061-4ab8-82d0-5b8770d00c26",
   "metadata": {},
   "outputs": [
    {
     "name": "stdout",
     "output_type": "stream",
     "text": [
      "(12, 3, 11289, 9467)\n"
     ]
    }
   ],
   "source": [
    "# The same procedure for year 2022\n",
    "\n",
    "with Pool(num_processes) as pool:\n",
    "    # Apply the read_data() function to each file in parallel\n",
    "    data_arrays_2022 = pool.map(read_data, tiff_files_2022)\n",
    "\n",
    "# Stack the data arrays along a new axis to create the datacube\n",
    "datacube_2022 = np.stack(data_arrays_2022, axis=0)\n",
    "print(datacube_2022.shape)\n",
    "\n",
    "NDVI_stack_2022 = datacube_2022[:,0,:,:]"
   ]
  },
  {
   "cell_type": "code",
   "execution_count": 6,
   "id": "e4e15206-6892-484e-97e2-22ecbbdb80f9",
   "metadata": {},
   "outputs": [
    {
     "name": "stdout",
     "output_type": "stream",
     "text": [
      "Band 1: mNDVI\n",
      "Band 2: mNDMI\n",
      "Band 3: mGVI\n"
     ]
    }
   ],
   "source": [
    "# Getting the name of bands\n",
    "\n",
    "# Get the first file in the list\n",
    "names = tiff_files_2022[0]\n",
    "\n",
    "# Open the file and retrieve the band names\n",
    "with rasterio.open(names) as src:\n",
    "    band_names = src.descriptions\n",
    "\n",
    "# Print the band names\n",
    "for i, band_name in enumerate(band_names):\n",
    "    print(f\"Band {i+1}: {band_name}\")"
   ]
  },
  {
   "cell_type": "code",
   "execution_count": null,
   "id": "ae8cd87e",
   "metadata": {},
   "outputs": [],
   "source": [
    "# Taking a look to a line of datasets\n",
    "\n",
    "print(datacube_2018[:,0,1620,1450])\n",
    "print(NDVI_stack_2018[:,1620,1450])"
   ]
  },
  {
   "cell_type": "code",
   "execution_count": 8,
   "id": "c672ad69-47f1-482c-b04a-8421117b1fb8",
   "metadata": {},
   "outputs": [
    {
     "data": {
      "image/png": "[encoded data removed]",
      "text/plain": [
       "<Figure size 432x288 with 2 Axes>"
      ]
     },
     "metadata": {
      "needs_background": "light"
     },
     "output_type": "display_data"
    }
   ],
   "source": [
    "# Visualizing one of the bands\n",
    "\n",
    "pixel_values_first = datacube_2018[3, 0, :, :]\n",
    "\n",
    "plt.imshow(pixel_values_first)\n",
    "plt.colorbar()\n",
    "plt.show()"
   ]
  },
  {
   "cell_type": "code",
   "execution_count": 17,
   "id": "116f26cc-9752-465f-8533-a7bfc46cafa9",
   "metadata": {},
   "outputs": [
    {
     "name": "stdout",
     "output_type": "stream",
     "text": [
      "[0.28829578 0.16884872 0.17127071        nan 0.21754302 0.7613128\n",
      " 0.7227488  0.4039395  0.25649965 0.3370277  0.6088561  0.6296975 ]\n"
     ]
    },
    {
     "data": {
      "image/png": "[encoded data removed]",
      "text/plain": [
       "<Figure size 432x288 with 1 Axes>"
      ]
     },
     "metadata": {
      "needs_background": "light"
     },
     "output_type": "display_data"
    }
   ],
   "source": [
    "# Plotting one of the indicators for a given pixel\n",
    "\n",
    "x = 1620\n",
    "y = 1450\n",
    "\n",
    "# Extract the pixel values for the selected location across all images\n",
    "pixel_values_1d = datacube_2018[:, 0, x, y]\n",
    "print(pixel_values_1d)\n",
    "\n",
    "plt.plot(dates_2018, pixel_values_1d)\n",
    "plt.xlabel('Date')\n",
    "plt.xticks(rotation = 45)\n",
    "plt.show()"
   ]
  },
  {
   "cell_type": "code",
   "execution_count": 9,
   "id": "d028ae5d-56f8-4fdf-88be-bb9d471c4d17",
   "metadata": {},
   "outputs": [
    {
     "name": "stdout",
     "output_type": "stream",
     "text": [
      "Number of 2018 Season 1 pixels: 9439214\n"
     ]
    }
   ],
   "source": [
    "# Growing Seasons Stratification\n",
    "\n",
    "# Obtaining the time series with the peak at season 1 for year 2018\n",
    "\n",
    "start_date_2018_s1 = datetime.date(2018, 5, 1)\n",
    "end_date_2018_s1 = datetime.date(2018, 7, 31)\n",
    "\n",
    "# Define a function to be executed in parallel\n",
    "def find_pixels(row, col):\n",
    "    data_slice = NDVI_stack_2018[:, row, col]\n",
    "    if np.all(np.isnan(data_slice)):\n",
    "        return None\n",
    "    max_value = np.nanmax(data_slice)\n",
    "    if np.isnan(max_value):\n",
    "        return None\n",
    "    max_index = list(data_slice).index(max_value)\n",
    "    date_of_max = dates_2018[max_index].date()\n",
    "    if start_date_2018_s1 <= date_of_max <= end_date_2018_s1:\n",
    "        return (row, col)\n",
    "\n",
    "# Create a pool of worker processes to execute the function in parallel\n",
    "with mp.Pool(num_processes) as pool:\n",
    "    # Execute the function in parallel for all combinations of row and col\n",
    "    n_pixels_2018_s1 = [result for result in pool.starmap(find_pixels, [(row, col) for row in range(NDVI_stack_2018.shape[1]) for col in range(NDVI_stack_2018.shape[2])]) if result is not None]\n",
    "\n",
    "# Print the number of pixels of interest\n",
    "print(f\"Number of 2018 Season 1 pixels: {len(n_pixels_2018_s1)}\")"
   ]
  },
  {
   "cell_type": "code",
   "execution_count": 10,
   "id": "64056184-292d-402a-ad31-f25273d85085",
   "metadata": {},
   "outputs": [
    {
     "name": "stdout",
     "output_type": "stream",
     "text": [
      "Number of 2022 Season 1 pixels: 6894120\n"
     ]
    }
   ],
   "source": [
    "# Obtaining the time series with the peak at season 1 for year 2022\n",
    "\n",
    "start_date_2022_s1 = datetime.date(2022, 5, 1)\n",
    "end_date_2022_s1 = datetime.date(2022, 7, 31)\n",
    "\n",
    "# Define a function to be executed in parallel\n",
    "def find_pixels(row, col):\n",
    "    data_slice = NDVI_stack_2022[:, row, col]\n",
    "    if np.all(np.isnan(data_slice)):\n",
    "        return None\n",
    "    max_value = np.nanmax(data_slice)\n",
    "    if np.isnan(max_value):\n",
    "        return None\n",
    "    max_index = list(data_slice).index(max_value)\n",
    "    date_of_max = dates_2022[max_index].date()\n",
    "    if start_date_2022_s1 <= date_of_max <= end_date_2022_s1:\n",
    "        return (row, col)\n",
    "\n",
    "# Create a pool of worker processes to execute the function in parallel\n",
    "with mp.Pool(num_processes) as pool:\n",
    "    # Execute the function in parallel for all combinations of row and col\n",
    "    n_pixels_2022_s1 = [result for result in pool.starmap(find_pixels, [(row, col) for row in range(NDVI_stack_2022.shape[1]) for col in range(NDVI_stack_2022.shape[2])]) if result is not None]\n",
    "\n",
    "# Print the number of pixels of interest\n",
    "print(f\"Number of 2022 Season 1 pixels: {len(n_pixels_2022_s1)}\")"
   ]
  },
  {
   "cell_type": "code",
   "execution_count": 11,
   "id": "5f936353-a8e1-4a8f-95a1-002d6a1df054",
   "metadata": {},
   "outputs": [
    {
     "name": "stdout",
     "output_type": "stream",
     "text": [
      "Number of 2018 Season 2 pixels: 2515213\n"
     ]
    }
   ],
   "source": [
    "# Obtaining the time series with the peak at season 2 for year 2018\n",
    "\n",
    "start_date_2018_s2 = datetime.date(2018, 9, 1)\n",
    "end_date_2018_s2 = datetime.date(2018, 12, 31)\n",
    "\n",
    "def find_pixels(row, col):\n",
    "    data_slice = NDVI_stack_2018[:, row, col]\n",
    "    if np.all(np.isnan(data_slice)):\n",
    "        return None\n",
    "    max_value = np.nanmax(data_slice)\n",
    "    if np.isnan(max_value):\n",
    "        return None\n",
    "    max_index = list(data_slice).index(max_value)\n",
    "    date_of_max = dates_2018[max_index].date()\n",
    "    if start_date_2018_s2 <= date_of_max <= end_date_2018_s2:\n",
    "        return (row, col)\n",
    "\n",
    "# Create a pool of worker processes to execute the function in parallel\n",
    "with mp.Pool(num_processes) as pool:\n",
    "    # Execute the function in parallel for all combinations of row and col\n",
    "    n_pixels_2018_s2 = [result for result in pool.starmap(find_pixels, [(row, col) for row in range(NDVI_stack_2018.shape[1]) for col in range(NDVI_stack_2018.shape[2])]) if result is not None]\n",
    "\n",
    "# Print the number of pixels of interest\n",
    "print(f\"Number of 2018 Season 2 pixels: {len(n_pixels_2018_s2)}\")"
   ]
  },
  {
   "cell_type": "code",
   "execution_count": 12,
   "id": "68bb763b-c660-4c89-9ca4-d07da4e1b2b0",
   "metadata": {},
   "outputs": [
    {
     "name": "stdout",
     "output_type": "stream",
     "text": [
      "Number of 2022 Season 2 pixels: 1425077\n"
     ]
    }
   ],
   "source": [
    "# Obtaining the time series with the peak at season 2 for year 2022\n",
    "\n",
    "start_date_2022_s2 = datetime.date(2022, 9, 1)\n",
    "end_date_2022_s2 = datetime.date(2022, 12, 31)\n",
    "\n",
    "def find_pixels(row, col):\n",
    "    data_slice = NDVI_stack_2022[:, row, col]\n",
    "    if np.all(np.isnan(data_slice)):\n",
    "        return None\n",
    "    max_value = np.nanmax(data_slice)\n",
    "    if np.isnan(max_value):\n",
    "        return None\n",
    "    max_index = list(data_slice).index(max_value)\n",
    "    date_of_max = dates_2022[max_index].date()\n",
    "    if start_date_2022_s2 <= date_of_max <= end_date_2022_s2:\n",
    "        return (row, col)\n",
    "\n",
    "# Create a pool of worker processes to execute the function in parallel\n",
    "with mp.Pool(num_processes) as pool:\n",
    "    # Execute the function in parallel for all combinations of row and col\n",
    "    n_pixels_2022_s2 = [result for result in pool.starmap(find_pixels, [(row, col) for row in range(NDVI_stack_2022.shape[1]) for col in range(NDVI_stack_2022.shape[2])]) if result is not None]\n",
    "\n",
    "# Print the number of pixels of interest\n",
    "print(f\"Number of 2022 Season 2 pixels: {len(n_pixels_2022_s2)}\")"
   ]
  },
  {
   "cell_type": "code",
   "execution_count": 13,
   "id": "0239a17d-783b-4818-88e4-5842ef0e46e3",
   "metadata": {},
   "outputs": [
    {
     "name": "stdout",
     "output_type": "stream",
     "text": [
      "(12, 3, 9439214)\n",
      "number of time series =  9439214 \n",
      "number of bands =  3 \n",
      "length of ts =  12\n",
      "(9439214, 3, 12)\n",
      "(12, 3, 2515213)\n",
      "number of time series =  2515213 \n",
      "number of bands =  3 \n",
      "length of ts =  12\n"
     ]
    }
   ],
   "source": [
    "# Preparing the training data\n",
    "\n",
    "## 2018\n",
    "## Season 1 \n",
    "\n",
    "# Convert the list of pixel indices to a NumPy array\n",
    "s1_array_2018 = np.array(n_pixels_2018_s1)\n",
    "\n",
    "# Extract the time series of the pixels of interest\n",
    "time_series_s1_2018 = datacube_2018[:, :, s1_array_2018[:, 0], s1_array_2018[:, 1]]\n",
    "ts_length, n_bands, n_time_series_s1 = time_series_s1_2018.shape\n",
    "print(time_series_s1_2018.shape)\n",
    "print(\"number of time series = \", n_time_series_s1, \"\\nnumber of bands = \", n_bands, \"\\nlength of ts = \", ts_length)\n",
    "\n",
    "\n",
    "# Transpose the labeled_time_series array\n",
    "time_series_s1_2018_t = np.transpose(time_series_s1_2018)\n",
    "print(time_series_s1_2018_t.shape)\n",
    "\n",
    "## Season 2 \n",
    "\n",
    "# Convert the list of pixel indices to a NumPy array\n",
    "s2_array_2018 = np.array(n_pixels_2018_s2)\n",
    "\n",
    "# Extract the time series of the pixels of interest\n",
    "time_series_s2_2018 = datacube_2018[:, :, s2_array_2018[:, 0], s2_array_2018[:, 1]]\n",
    "ts_length, n_bands, n_time_series_s2 = time_series_s2_2018.shape\n",
    "print(time_series_s2_2018.shape)\n",
    "print(\"number of time series = \", n_time_series_s2, \"\\nnumber of bands = \", n_bands, \"\\nlength of ts = \", ts_length)\n",
    "\n",
    "\n",
    "# Transpose the labeled_time_series array\n",
    "time_series_s2_2018_t = np.transpose(time_series_s2_2018)"
   ]
  },
  {
   "cell_type": "code",
   "execution_count": 14,
   "id": "84374dbc-5e09-4cbd-98d4-e3b99a6f189c",
   "metadata": {},
   "outputs": [
    {
     "name": "stdout",
     "output_type": "stream",
     "text": [
      "(9439214, 36) (2515213, 36)\n"
     ]
    }
   ],
   "source": [
    "time_series_s1_2018 = np.reshape(time_series_s1_2018_t, (n_time_series_s1, n_bands*ts_length))\n",
    "time_series_s2_2018 = np.reshape(time_series_s2_2018_t, (n_time_series_s2, n_bands*ts_length))\n",
    "\n",
    "# Print the shape of the reshaped 2D tuple\n",
    "print(time_series_s1_2018.shape,time_series_s2_2018.shape)"
   ]
  },
  {
   "cell_type": "code",
   "execution_count": 15,
   "id": "97a4cb64-83db-409f-a010-f792def0428f",
   "metadata": {},
   "outputs": [
    {
     "name": "stdout",
     "output_type": "stream",
     "text": [
      "(12, 3, 6894120)\n",
      "number of time series =  6894120 \n",
      "number of bands =  3 \n",
      "length of ts =  12\n",
      "(6894120, 3, 12)\n",
      "(12, 3, 1425077)\n",
      "number of time series =  1425077 \n",
      "number of bands =  3 \n",
      "length of ts =  12\n"
     ]
    }
   ],
   "source": [
    "## 2022\n",
    "## Season 1 \n",
    "\n",
    "# Convert the list of pixel indices to a NumPy array\n",
    "s1_array_2022 = np.array(n_pixels_2022_s1)\n",
    "\n",
    "# Extract the time series of the pixels of interest\n",
    "time_series_s1_2022 = datacube_2022[:, :, s1_array_2022[:, 0], s1_array_2022[:, 1]]\n",
    "ts_length, n_bands, n_time_series_s1 = time_series_s1_2022.shape\n",
    "print(time_series_s1_2022.shape)\n",
    "print(\"number of time series = \", n_time_series_s1, \"\\nnumber of bands = \", n_bands, \"\\nlength of ts = \", ts_length)\n",
    "\n",
    "\n",
    "# Transpose the labeled_time_series array\n",
    "time_series_s1_2022_t = np.transpose(time_series_s1_2022)\n",
    "print(time_series_s1_2022_t.shape)\n",
    "\n",
    "## Season 2 \n",
    "\n",
    "# Convert the list of pixel indices to a NumPy array\n",
    "s2_array_2022 = np.array(n_pixels_2022_s2)\n",
    "\n",
    "# Extract the time series of the pixels of interest\n",
    "time_series_s2_2022 = datacube_2022[:, :, s2_array_2022[:, 0], s2_array_2022[:, 1]]\n",
    "ts_length, n_bands, n_time_series_s2 = time_series_s2_2022.shape\n",
    "print(time_series_s2_2022.shape)\n",
    "print(\"number of time series = \", n_time_series_s2, \"\\nnumber of bands = \", n_bands, \"\\nlength of ts = \", ts_length)\n",
    "\n",
    "\n",
    "# Transpose the labeled_time_series array\n",
    "time_series_s2_2022_t = np.transpose(time_series_s2_2022)"
   ]
  },
  {
   "cell_type": "code",
   "execution_count": 16,
   "id": "878c7ec8-1ac9-4183-b9ba-8a485e66b6fc",
   "metadata": {},
   "outputs": [
    {
     "name": "stdout",
     "output_type": "stream",
     "text": [
      "(6894120, 36) (1425077, 36)\n"
     ]
    }
   ],
   "source": [
    "time_series_s1_2022 = np.reshape(time_series_s1_2022_t, (n_time_series_s1, n_bands*ts_length))\n",
    "time_series_s2_2022 = np.reshape(time_series_s2_2022_t, (n_time_series_s2, n_bands*ts_length))\n",
    "\n",
    "# Print the shape of the reshaped 2D tuple\n",
    "print(time_series_s1_2022.shape,time_series_s2_2022.shape)"
   ]
  },
  {
   "cell_type": "code",
   "execution_count": 17,
   "id": "dd8f7724-6810-4835-b166-57dbff28aaab",
   "metadata": {},
   "outputs": [
    {
     "name": "stdout",
     "output_type": "stream",
     "text": [
      "(11954427, 36)\n",
      "(8319197, 36)\n"
     ]
    }
   ],
   "source": [
    "# Concatenating 2018 and 2022 time series\n",
    "\n",
    "time_series_2018 = np.concatenate((time_series_s1_2018, time_series_s2_2018), axis=0)\n",
    "print(time_series_2018.shape)\n",
    "time_series_2022 = np.concatenate((time_series_s1_2022, time_series_s2_2022), axis=0)\n",
    "print(time_series_2022.shape)"
   ]
  },
  {
   "cell_type": "code",
   "execution_count": null,
   "id": "7c8becd9",
   "metadata": {},
   "outputs": [],
   "source": [
    "# Assigning the lables\n",
    "\n",
    "labels_s1_2018 = np.zeros((time_series_s1_2018.shape[0], 1))\n",
    "labels_s2_2018 = np.ones((time_series_s2_2018.shape[0], 1))\n",
    "labels_s1_2022 = np.full((time_series_s1_2022.shape[0], 1), 2)\n",
    "labels_s2_2022 = np.full((time_series_s2_2022.shape[0], 1), 3)\n",
    "\n",
    "labels_2018_2022 = np.vstack([labels_s1_2018, labels_s2_2018, labels_s1_2022, labels_s2_2022])\n",
    "\n",
    "labels_2018_2022 = labels_2018_2022.astype('float64').ravel()"
   ]
  },
  {
   "cell_type": "code",
   "execution_count": 19,
   "id": "672aa8d7-5754-4eeb-bd51-9562540b9a0a",
   "metadata": {},
   "outputs": [
    {
     "name": "stdout",
     "output_type": "stream",
     "text": [
      "(20273624, 36)\n",
      "The array contains NaN values\n"
     ]
    }
   ],
   "source": [
    "time_series_2018_2022 = np.vstack([time_series_2018, time_series_2022])\n",
    "\n",
    "print(time_series_2018_2022.shape)\n",
    "\n",
    "# Check if the array contains NaN values\n",
    "has_nan = np.isnan(time_series_2018_2022).any()\n",
    "\n",
    "if has_nan:\n",
    "    print(\"The array contains NaN values\")\n",
    "else:\n",
    "    print(\"The array does not contain NaN values\")"
   ]
  },
  {
   "cell_type": "code",
   "execution_count": 20,
   "id": "37e67f1f-0bd4-40ac-b0a2-5fc271c2d34d",
   "metadata": {},
   "outputs": [
    {
     "name": "stdout",
     "output_type": "stream",
     "text": [
      "The array does not contain NaN values\n"
     ]
    }
   ],
   "source": [
    "from sklearn.impute import SimpleImputer\n",
    "\n",
    "# Replace NaN values with mean of the feature column\n",
    "imp_mean = SimpleImputer(strategy='mean')\n",
    "# time_series_2021_m = time_series_2021[:,1:]\n",
    "time_series_2018_2022_nonan = imp_mean.fit_transform(time_series_2018_2022)\n",
    "\n",
    "has_nan = np.isnan(time_series_2018_2022_nonan).any()\n",
    "\n",
    "if has_nan:\n",
    "    print(\"The array contains NaN values\")\n",
    "else:\n",
    "    print(\"The array does not contain NaN values\")"
   ]
  },
  {
   "cell_type": "code",
   "execution_count": 21,
   "id": "b9bab8b5-b696-486e-98f4-609ef34640bc",
   "metadata": {},
   "outputs": [
    {
     "name": "stdout",
     "output_type": "stream",
     "text": [
      "(14191536, 36) (6082088, 36) (14191536,) (6082088,)\n"
     ]
    }
   ],
   "source": [
    "## Machine Learning\n",
    "from sklearn.model_selection import train_test_split\n",
    "\n",
    "X = time_series_2018_2022_nonan\n",
    "y = labels_2018_2022\n",
    "# Split into training and testing sets\n",
    "X_train, X_test, y_train, y_test = train_test_split(X, y, test_size=0.3, random_state=42)\n",
    "\n",
    "print(X_train.shape, X_test.shape, y_train.shape, y_test.shape)"
   ]
  },
  {
   "cell_type": "code",
   "execution_count": null,
   "id": "b2d95c33",
   "metadata": {},
   "outputs": [],
   "source": [
    "# Training and test a random forest model\n",
    "\n",
    "from sklearn.ensemble import RandomForestClassifier\n",
    "from sklearn.metrics import confusion_matrix, classification_report, plot_confusion_matrix\n",
    "\n",
    "# Create a random forest classifier with 100 trees and set n_jobs=-1\n",
    "RF_Narok_NE_1822 = RandomForestClassifier(n_estimators=100, n_jobs=-1)\n",
    "\n",
    "# Train the model on the training data\n",
    "RF_Narok_NE_18_22 = RF_Narok_NE_1822.fit(X_train, y_train)"
   ]
  },
  {
   "cell_type": "code",
   "execution_count": null,
   "id": "1826dffe",
   "metadata": {},
   "outputs": [],
   "source": [
    "# Performance assessment\n",
    "\n",
    "accuracy = RF_Narok_NE_18_22.score(X_test, y_test)\n",
    "print('Random forest accuracy: {:.2f}%'.format(accuracy*100))\n",
    "\n",
    "y_pred = RF_Narok_NE_18_22.predict(X_test)\n",
    "\n",
    "print(confusion_matrix(y_test, y_pred))\n",
    "\n",
    "print(classification_report(y_test, y_pred))\n",
    "\n",
    "plot_confusion_matrix(RF_Narok_NE_18_22, X_test, y_test, cmap=plt.cm.Blues, normalize='true')\n",
    "plt.show()"
   ]
  },
  {
   "cell_type": "code",
   "execution_count": 25,
   "id": "95b3e0cc-9379-4efb-9c0a-41cc85cf4239",
   "metadata": {},
   "outputs": [],
   "source": [
    "# Save the model to a file\n",
    "with open('RF_Narok_NE_18_22.pkl', 'wb') as f2:\n",
    "    pickle.dump(RF_Narok_NE_18_22, f2)"
   ]
  }
 ],
 "metadata": {
  "kernelspec": {
   "display_name": "Python 3 (ipykernel)",
   "language": "python",
   "name": "python3"
  },
  "language_info": {
   "codemirror_mode": {
    "name": "ipython",
    "version": 3
   },
   "file_extension": ".py",
   "mimetype": "text/x-python",
   "name": "python",
   "nbconvert_exporter": "python",
   "pygments_lexer": "ipython3",
   "version": "3.10.9"
  }
 },
 "nbformat": 4,
 "nbformat_minor": 5
}
