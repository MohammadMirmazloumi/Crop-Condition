{
 "cells": [
  {
   "cell_type": "code",
   "execution_count": 2,
   "id": "49e21347-9d25-45b5-bc2b-3833b09a6581",
   "metadata": {},
   "outputs": [],
   "source": [
    "import os\n",
    "import re\n",
    "import datetime\n",
    "import rasterio\n",
    "import numpy as np\n",
    "import multiprocessing as mp\n",
    "from multiprocessing import Pool\n",
    "import matplotlib.pyplot as plt\n",
    "import pickle"
   ]
  },
  {
   "cell_type": "code",
   "execution_count": 3,
   "id": "214faf41-618a-44d5-8089-a6b8d08e649f",
   "metadata": {},
   "outputs": [],
   "source": [
    "directory_2020_m = \"data/Busia/mVIs_Narok_North_East_monthly_2020\"\n",
    "\n",
    "# Get a list of all the TIFF files in the directory\n",
    "tiff_files_2020_m = sorted([os.path.join(directory_2020_m, file) for file in os.listdir(directory_2020_m) if file.endswith(\".tif\")])"
   ]
  },
  {
   "cell_type": "code",
   "execution_count": 4,
   "id": "77941353-c09b-4119-8c4f-07cdcc5e6cb2",
   "metadata": {},
   "outputs": [],
   "source": [
    "num_processes = mp.cpu_count()\n",
    "\n",
    "# Define a function to read data from a single file\n",
    "def read_data(file):\n",
    "    with rasterio.open(file) as src:\n",
    "        data = src.read()\n",
    "        data = np.nan_to_num(data, nan=np.nan, posinf=np.nan, neginf=np.nan)\n",
    "        return data"
   ]
  },
  {
   "cell_type": "code",
   "execution_count": 6,
   "id": "7217d61e-581d-4ea8-92b7-ba04b88cb9af",
   "metadata": {},
   "outputs": [
    {
     "name": "stdout",
     "output_type": "stream",
     "text": [
      "(3, 12, 11289, 9467)\n"
     ]
    }
   ],
   "source": [
    "with Pool(num_processes) as pool:\n",
    "    # Apply the read_data() function to each file in parallel\n",
    "    data_arrays_2020_m = pool.map(read_data, tiff_files_2020_m)\n",
    "\n",
    "# Stack the data arrays along a new axis to create the datacube\n",
    "datacube_2020_m = np.stack(data_arrays_2020_m, axis=1)\n",
    "print(datacube_2020_m.shape)"
   ]
  },
  {
   "cell_type": "code",
   "execution_count": 7,
   "id": "d54e40b8-d20c-4503-aa37-0f22a23b03d9",
   "metadata": {},
   "outputs": [
    {
     "name": "stdout",
     "output_type": "stream",
     "text": [
      "(12, 11289, 9467) (12, 11289, 9467) (12, 11289, 9467)\n"
     ]
    }
   ],
   "source": [
    "NDVI_stack_2020 = datacube_2020_m[0,:,:,:]\n",
    "NDMI_stack_2020 = datacube_2020_m[1, :, :, :]\n",
    "GVI_stack_2020 = datacube_2020_m[2, :, :, :]\n",
    "\n",
    "print(NDVI_stack_2020.shape,NDMI_stack_2020.shape,GVI_stack_2020.shape)"
   ]
  },
  {
   "cell_type": "code",
   "execution_count": 8,
   "id": "d5a307e3-445a-4f52-ac5b-4780fa04e49a",
   "metadata": {},
   "outputs": [],
   "source": [
    "def replace_nan_with_mean(pixel):\n",
    "    time_series = pixel[:]\n",
    "    valid_values = time_series[np.logical_not(np.isnan(time_series))]\n",
    "    \n",
    "    if np.isnan(valid_values).all():\n",
    "        # Return the original time series if it's fully NaN\n",
    "        return time_series\n",
    "    \n",
    "    mean_value = np.nanmean(valid_values)\n",
    "    time_series[np.isnan(time_series)] = mean_value\n",
    "    \n",
    "    return time_series"
   ]
  },
  {
   "cell_type": "code",
   "execution_count": 9,
   "id": "891d4f7e-ea56-4200-9c57-a2b61a7c2d74",
   "metadata": {},
   "outputs": [],
   "source": [
    "t, r, c = NDVI_stack_2020.shape\n",
    "\n",
    "# Reshape the stack to a 2D array for parallel processing\n",
    "NDVI_stack_2020_reshaped = NDVI_stack_2020.reshape(t, -1)\n",
    "NDMI_stack_2020_reshaped = NDMI_stack_2020.reshape(t, -1)\n",
    "GVI_stack_2020_reshaped = GVI_stack_2020.reshape(t, -1)\n",
    "\n",
    "# Determine the number of processes to use\n",
    "\n",
    "# Create a pool of workers\n",
    "pool = Pool(num_processes)\n",
    "\n",
    "# Apply the function to each pixel in parallel\n",
    "processed_pixels_ndvi = pool.map(replace_nan_with_mean, NDVI_stack_2020_reshaped.T)\n",
    "processed_pixels_ndmi = pool.map(replace_nan_with_mean, NDMI_stack_2020_reshaped.T)\n",
    "processed_pixels_gvi = pool.map(replace_nan_with_mean, GVI_stack_2020_reshaped.T)\n",
    "\n",
    "# Close the pool to release resources\n",
    "pool.close()\n",
    "pool.join()\n",
    "\n",
    "# Reshape the processed pixels back to the original shape\n",
    "NDVI_stack_2020_processed = np.array(processed_pixels_ndvi).T.reshape(t, r, c)\n",
    "NDMI_stack_2020_processed = np.array(processed_pixels_ndmi).T.reshape(t, r, c)\n",
    "GVI_stack_2020_processed = np.array(processed_pixels_gvi).T.reshape(t, r, c)"
   ]
  },
  {
   "cell_type": "code",
   "execution_count": 10,
   "id": "54d1eae9-9d9e-448e-a347-857381b8e199",
   "metadata": {},
   "outputs": [
    {
     "data": {
      "text/plain": [
       "array([nan, nan, nan, nan, nan, nan, nan, nan, nan, nan, nan, nan],\n",
       "      dtype=float32)"
      ]
     },
     "execution_count": 10,
     "metadata": {},
     "output_type": "execute_result"
    }
   ],
   "source": [
    "GVI_stack_2020_processed[:,4000,3000]"
   ]
  },
  {
   "cell_type": "code",
   "execution_count": 11,
   "id": "fddf47ff-31b3-49ac-baea-d3bfad66a53b",
   "metadata": {},
   "outputs": [
    {
     "name": "stdout",
     "output_type": "stream",
     "text": [
      "(36, 11289, 9467)\n"
     ]
    }
   ],
   "source": [
    "stacked_vi_2020 = np.concatenate((NDVI_stack_2020_processed, NDMI_stack_2020_processed, GVI_stack_2020_processed), axis=0)\n",
    "print(stacked_vi_2020.shape)"
   ]
  },
  {
   "cell_type": "code",
   "execution_count": 12,
   "id": "ac7a43fe-8978-4423-a23b-cb8af3a1f35f",
   "metadata": {},
   "outputs": [
    {
     "name": "stdout",
     "output_type": "stream",
     "text": [
      "(11289, 9467, 36)\n"
     ]
    }
   ],
   "source": [
    "stacked_vi_2020_2d = np.moveaxis(stacked_vi_2020, 0, -1)\n",
    "\n",
    "# Print the shape of the resulting stacked tuples\n",
    "print(stacked_vi_2020_2d.shape)"
   ]
  },
  {
   "cell_type": "code",
   "execution_count": 13,
   "id": "0a4a0103-2a9f-4765-8f8b-5220cc7a5181",
   "metadata": {},
   "outputs": [
    {
     "name": "stdout",
     "output_type": "stream",
     "text": [
      "(11289, 9467, 36)\n"
     ]
    }
   ],
   "source": [
    "stacked_vi_2020_2d_2 = np.moveaxis(stacked_vi_2020, 0, -1)\n",
    "\n",
    "# Print the shape of the resulting stacked tuples\n",
    "print(stacked_vi_2020_2d_2.shape)"
   ]
  },
  {
   "cell_type": "code",
   "execution_count": 14,
   "id": "39438a10-186c-4f8c-8686-269280e4ea3b",
   "metadata": {},
   "outputs": [
    {
     "data": {
      "text/plain": [
       "array([nan, nan, nan, nan, nan, nan, nan, nan, nan, nan, nan, nan, nan,\n",
       "       nan, nan, nan, nan, nan, nan, nan, nan, nan, nan, nan, nan, nan,\n",
       "       nan, nan, nan, nan, nan, nan, nan, nan, nan, nan], dtype=float32)"
      ]
     },
     "execution_count": 14,
     "metadata": {},
     "output_type": "execute_result"
    }
   ],
   "source": [
    "stacked_vi_2020_2d_2[4000,3000,:]"
   ]
  },
  {
   "cell_type": "code",
   "execution_count": 15,
   "id": "b5dc63f4-ee9a-4350-8e21-cd7144cf7e2b",
   "metadata": {},
   "outputs": [
    {
     "name": "stdout",
     "output_type": "stream",
     "text": [
      "(106872963, 36)\n"
     ]
    }
   ],
   "source": [
    "stacked_vi_2020_2d_ml_m = stacked_vi_2020_2d_2.reshape(r*c,t*3)\n",
    "\n",
    "print(stacked_vi_2020_2d_ml_m.shape)"
   ]
  },
  {
   "cell_type": "code",
   "execution_count": 51,
   "id": "9a408370-45e5-43a8-a48f-6bf08ea98f40",
   "metadata": {},
   "outputs": [
    {
     "name": "stdout",
     "output_type": "stream",
     "text": [
      "(52333392, 36)\n"
     ]
    }
   ],
   "source": [
    "# stacked_vi_2022_2d_ml_m_3 = stacked_vi_2022_2d.reshape(r*c,t*3)\n",
    "\n",
    "# print(stacked_vi_2022_2d_ml_m_2.shape)"
   ]
  },
  {
   "cell_type": "code",
   "execution_count": 16,
   "id": "69de2f40-b8eb-4eb2-8580-b4ebbd1dd1ef",
   "metadata": {},
   "outputs": [],
   "source": [
    "# # Load the model from the file\n",
    "with open('RF_Narok_NE_18_22.pkl', 'rb') as f:\n",
    "    RF_Narok_NE_18_22 = pickle.load(f)"
   ]
  },
  {
   "cell_type": "code",
   "execution_count": 17,
   "id": "9fd199df-efe3-42a4-8091-0336495fba98",
   "metadata": {},
   "outputs": [
    {
     "data": {
      "text/plain": [
       "array([nan, nan, nan, ..., nan, nan, nan], dtype=float32)"
      ]
     },
     "execution_count": 17,
     "metadata": {},
     "output_type": "execute_result"
    }
   ],
   "source": [
    "stacked_vi_2020_2d_ml_m[:,1]"
   ]
  },
  {
   "cell_type": "code",
   "execution_count": 22,
   "id": "395fe58c-d6d8-4c1b-bcc3-9955b8365d11",
   "metadata": {},
   "outputs": [
    {
     "name": "stdout",
     "output_type": "stream",
     "text": [
      "[ True  True  True ...  True  True  True]\n"
     ]
    }
   ],
   "source": [
    "unseen_nan_mask_1 = (stacked_vi_2020_2d_ml_m == -9999).all(axis=1) ## or (stacked_vi_2022_2d_ml_m_3 == -9999).all(axis=1)\n",
    "print(unseen_nan_mask_1)"
   ]
  },
  {
   "cell_type": "code",
   "execution_count": 21,
   "id": "8d39e645-4ec2-4818-8657-6e636077365f",
   "metadata": {},
   "outputs": [
    {
     "name": "stdout",
     "output_type": "stream",
     "text": [
      "[False False False ... False False False]\n"
     ]
    }
   ],
   "source": [
    "nan_mask = np.isnan(stacked_vi_2020_2d_ml_m).all(axis=1)\n",
    "print(nan_mask)"
   ]
  },
  {
   "cell_type": "code",
   "execution_count": 20,
   "id": "1e624cb9-65b3-45b4-ad3d-b6b869046626",
   "metadata": {},
   "outputs": [],
   "source": [
    "# Create a placeholder label for fully NaN time series\n",
    "placeholder_value = -9999  # Set the desired placeholder label for fully NaN time series\n",
    "stacked_vi_2020_2d_ml_m[np.isnan(stacked_vi_2020_2d_ml_m)] = placeholder_value\n",
    "# Predict labels for the unseen data, considering only non-NaN time series\n",
    "predicted_labels = np.where(nan_mask, placeholder_value, RF_Narok_NE_18_22.predict(stacked_vi_2020_2d_ml_m))"
   ]
  },
  {
   "cell_type": "code",
   "execution_count": 23,
   "id": "5ddac965-9642-4476-8b5d-7ee7d878b81e",
   "metadata": {},
   "outputs": [
    {
     "name": "stdout",
     "output_type": "stream",
     "text": [
      "(106872963,)\n",
      "(106872963, 36)\n",
      "(11289, 9467)\n"
     ]
    }
   ],
   "source": [
    "print(predicted_labels.shape)\n",
    "print(stacked_vi_2020_2d_ml_m.shape)\n",
    "\n",
    "# Load the input GeoTIFF file\n",
    "with rasterio.open(tiff_files_2020_m[0]) as src:\n",
    "    profile = src.profile  # Get the profile of the input GeoTIFF\n",
    "    r, c = src.shape  # Get the spatial dimensions of the input GeoTIFF\n",
    "\n",
    "    # Read the input data as a NumPy array\n",
    "    input_data = src.read()\n",
    "\n",
    "# Reshape the predicted labels array to match the spatial dimensions of the input data\n",
    "predicted_labels_2d = predicted_labels.reshape((r, c))\n",
    "print(predicted_labels_2d.shape)"
   ]
  },
  {
   "cell_type": "code",
   "execution_count": 24,
   "id": "645a91d0-c050-4126-83d5-d0e100fea429",
   "metadata": {},
   "outputs": [
    {
     "name": "stdout",
     "output_type": "stream",
     "text": [
      "(11289, 9467)\n"
     ]
    }
   ],
   "source": [
    "# Add the predicted labels as a new band to the input data\n",
    "output_data = np.zeros((r, c), dtype=input_data.dtype)\n",
    "\n",
    "# Assign the predicted labels to the corresponding pixels in the output array\n",
    "output_data = np.where(input_data[0, :, :] != 0, predicted_labels_2d, output_data)\n",
    "print(output_data.shape)\n",
    "\n",
    "# Update the profile of the input GeoTIFF to reflect the changes\n",
    "profile.update(count=1)\n",
    "\n",
    "# Save the output data as a new GeoTIFF file\n",
    "with rasterio.open('Narok_NE_2020_1.tif', 'w', **profile) as dst:\n",
    "    dst.write(output_data, 1)"
   ]
  },
  {
   "cell_type": "code",
   "execution_count": 56,
   "id": "ff88dd47-1250-44dc-bfd0-8526e6978d60",
   "metadata": {},
   "outputs": [
    {
     "ename": "ValueError",
     "evalue": "shape mismatch: value array of shape (52333392,) could not be broadcast to indexing result of shape (8736011,36)",
     "output_type": "error",
     "traceback": [
      "\u001b[0;31m---------------------------------------------------------------------------\u001b[0m",
      "\u001b[0;31mValueError\u001b[0m                                Traceback (most recent call last)",
      "Input \u001b[0;32mIn [56]\u001b[0m, in \u001b[0;36m<cell line: 20>\u001b[0;34m()\u001b[0m\n\u001b[1;32m     17\u001b[0m output_data \u001b[38;5;241m=\u001b[39m np\u001b[38;5;241m.\u001b[39mzeros_like(stacked_vi_2022_2d_ml_m_3, dtype\u001b[38;5;241m=\u001b[39mnp\u001b[38;5;241m.\u001b[39mfloat32)\n\u001b[1;32m     19\u001b[0m \u001b[38;5;66;03m# Assign predicted labels to the non-masked lines\u001b[39;00m\n\u001b[0;32m---> 20\u001b[0m output_data[\u001b[38;5;241m~\u001b[39mmasked_lines] \u001b[38;5;241m=\u001b[39m predicted_labels\n\u001b[1;32m     22\u001b[0m \u001b[38;5;66;03m# Load the input GeoTIFF\u001b[39;00m\n\u001b[1;32m     23\u001b[0m \u001b[38;5;28;01mwith\u001b[39;00m rasterio\u001b[38;5;241m.\u001b[39mopen(\u001b[38;5;124m'\u001b[39m\u001b[38;5;124mtiff_files_2022_m[0]\u001b[39m\u001b[38;5;124m'\u001b[39m) \u001b[38;5;28;01mas\u001b[39;00m src:\n\u001b[1;32m     24\u001b[0m     \u001b[38;5;66;03m# Read the input data as a NumPy array\u001b[39;00m\n",
      "\u001b[0;31mValueError\u001b[0m: shape mismatch: value array of shape (52333392,) could not be broadcast to indexing result of shape (8736011,36)"
     ]
    }
   ],
   "source": [
    "\n",
    "# Create a mask for lines with fully -9999 values\n",
    "masked_lines = (stacked_vi_2022_2d_ml_m_3 == -9999).all(axis=1)\n",
    "\n",
    "# Create a placeholder label for masked lines\n",
    "placeholder_value = -9999\n",
    "\n",
    "# Create a copy of the input data to preserve the original values\n",
    "masked_stacked_vi_2d_ml = np.copy(stacked_vi_2022_2d_ml_m_3)\n",
    "\n",
    "# Replace the values in masked lines with the placeholder value\n",
    "masked_stacked_vi_2d_ml[masked_lines] = placeholder_value\n",
    "\n",
    "# Predict labels for the non-masked lines\n",
    "predicted_labels = RF_Busia_18_22.predict(masked_stacked_vi_2d_ml)\n",
    "\n",
    "# Create an output array with the same shape as the input data\n",
    "output_data = np.zeros_like(stacked_vi_2022_2d_ml_m_3, dtype=np.float32)\n",
    "\n",
    "# Assign predicted labels to the non-masked lines\n",
    "output_data[~masked_lines] = predicted_labels\n",
    "\n",
    "# Load the input GeoTIFF\n",
    "with rasterio.open('tiff_files_2022_m[0]') as src:\n",
    "    # Read the input data as a NumPy array\n",
    "    input_data = src.read(1)\n",
    "\n",
    "    # Create a mask for non-zero pixels in the input data\n",
    "    non_zero_mask = (input_data != 0)\n",
    "\n",
    "    # Assign the predicted labels to the corresponding pixels in the output array\n",
    "    output_data[non_zero_mask] = output_data[non_zero_mask]\n",
    "\n",
    "    # Update the profile of the input GeoTIFF to reflect the changes\n",
    "    profile = src.profile\n",
    "\n",
    "# Save the output data as a new GeoTIFF file\n",
    "with rasterio.open('output_2.tif', 'w', **profile) as dst:\n",
    "    dst.write(output_data, 1)\n"
   ]
  },
  {
   "cell_type": "code",
   "execution_count": 60,
   "id": "e40d9ef4-a6f0-41c2-afba-0d8c74cd95f8",
   "metadata": {},
   "outputs": [
    {
     "name": "stdout",
     "output_type": "stream",
     "text": [
      "[ True  True  True ...  True  True  True]\n"
     ]
    }
   ],
   "source": [
    "unseen_nan_mask_1 = (stacked_vi_2022_2d_ml_m_3 == -9999).all(axis=1) ## or (stacked_vi_2022_2d_ml_m_3 == -9999).all(axis=1)\n",
    "print(unseen_nan_mask_1)\n",
    "# Create a placeholder label for fully NaN time series\n",
    "placeholder_value = -9999  # Set the desired placeholder label for fully NaN time series\n",
    "stacked_vi_2022_2d_ml_m_2[np.isnan(stacked_vi_2022_2d_ml_m_2)] = placeholder_value\n",
    "# Predict labels for the unseen data, considering only non-NaN time series\n",
    "predicted_labels = np.where(unseen_nan_mask_1, placeholder_value, RF_Busia_18_22.predict(stacked_vi_2022_2d_ml_m_2))"
   ]
  },
  {
   "cell_type": "code",
   "execution_count": 61,
   "id": "e2eaca82-72c1-4025-a567-44767abd658f",
   "metadata": {},
   "outputs": [
    {
     "name": "stdout",
     "output_type": "stream",
     "text": [
      "(52333392,)\n",
      "(52333392, 36)\n",
      "(8952, 5846)\n"
     ]
    }
   ],
   "source": [
    "print(predicted_labels.shape)\n",
    "print(stacked_vi_2022_2d_ml_m_3.shape)\n",
    "\n",
    "# Load the input GeoTIFF file\n",
    "with rasterio.open(tiff_files_2022_m[0]) as src:\n",
    "    profile = src.profile  # Get the profile of the input GeoTIFF\n",
    "    r, c = src.shape  # Get the spatial dimensions of the input GeoTIFF\n",
    "\n",
    "    # Read the input data as a NumPy array\n",
    "    input_data = src.read()\n",
    "\n",
    "# Reshape the predicted labels array to match the spatial dimensions of the input data\n",
    "predicted_labels_2d = predicted_labels.reshape((r, c))\n",
    "print(predicted_labels_2d.shape)"
   ]
  },
  {
   "cell_type": "code",
   "execution_count": 62,
   "id": "201a96b7-48d2-4ba1-afc3-80a43a3e633f",
   "metadata": {},
   "outputs": [
    {
     "name": "stdout",
     "output_type": "stream",
     "text": [
      "(8952, 5846)\n"
     ]
    }
   ],
   "source": [
    "# Add the predicted labels as a new band to the input data\n",
    "output_data = np.zeros((r, c), dtype=input_data.dtype)\n",
    "\n",
    "# Assign the predicted labels to the corresponding pixels in the output array\n",
    "output_data = np.where(input_data[0, :, :] != 0, predicted_labels_2d, output_data)\n",
    "print(output_data.shape)\n",
    "\n",
    "# Update the profile of the input GeoTIFF to reflect the changes\n",
    "profile.update(count=1)\n",
    "\n",
    "# Save the output data as a new GeoTIFF file\n",
    "with rasterio.open('output_3.tif', 'w', **profile) as dst:\n",
    "    dst.write(output_data, 1)  # Write the output data to the first band of the output GeoTIFF"
   ]
  },
  {
   "cell_type": "code",
   "execution_count": 38,
   "id": "ca0c1134-307b-4806-b6b4-15901c816b0c",
   "metadata": {},
   "outputs": [],
   "source": [
    "nan_mask = np.isnan(stacked_vi_2022_2d_ml_m_2).all(axis=1)\n",
    "\n",
    "# Create a placeholder label for fully NaN rows\n",
    "placeholder_value = -9999\n",
    "\n",
    "# Predict labels for non-NaN rows\n",
    "predicted_labels = RF_Busia_18_22.predict(stacked_vi_2022_2d_ml_m_2[~nan_mask])\n",
    "\n",
    "# Create an output array with the same shape as the input data\n",
    "output_data = np.full(stacked_vi_2022_2d_ml_m_2.shape, placeholder_value, dtype=np.float32)\n",
    "\n",
    "# Assign predicted labels to non-NaN rows\n",
    "output_data[~nan_mask, :] = predicted_labels.reshape(-1, 1)"
   ]
  },
  {
   "cell_type": "code",
   "execution_count": 41,
   "id": "53847c8e-b8a0-4164-aea4-3e91c62b3a8b",
   "metadata": {},
   "outputs": [
    {
     "ename": "IndexError",
     "evalue": "boolean index did not match indexed array along dimension 0; dimension is 52333392 but corresponding boolean dimension is 8952",
     "output_type": "error",
     "traceback": [
      "\u001b[0;31m---------------------------------------------------------------------------\u001b[0m",
      "\u001b[0;31mIndexError\u001b[0m                                Traceback (most recent call last)",
      "Input \u001b[0;32mIn [41]\u001b[0m, in \u001b[0;36m<cell line: 2>\u001b[0;34m()\u001b[0m\n\u001b[1;32m      7\u001b[0m non_zero_mask \u001b[38;5;241m=\u001b[39m (input_data \u001b[38;5;241m!=\u001b[39m \u001b[38;5;241m0\u001b[39m)\n\u001b[1;32m      9\u001b[0m \u001b[38;5;66;03m# Assign the predicted labels and placeholder value to the corresponding pixels in the output array\u001b[39;00m\n\u001b[0;32m---> 10\u001b[0m output_data[non_zero_mask] \u001b[38;5;241m=\u001b[39m \u001b[43moutput_data\u001b[49m\u001b[43m[\u001b[49m\u001b[43mnon_zero_mask\u001b[49m\u001b[43m]\u001b[49m\n\u001b[1;32m     12\u001b[0m \u001b[38;5;66;03m# Update the profile of the input GeoTIFF to reflect the changes\u001b[39;00m\n\u001b[1;32m     13\u001b[0m profile \u001b[38;5;241m=\u001b[39m src\u001b[38;5;241m.\u001b[39mprofile\n",
      "\u001b[0;31mIndexError\u001b[0m: boolean index did not match indexed array along dimension 0; dimension is 52333392 but corresponding boolean dimension is 8952"
     ]
    }
   ],
   "source": [
    "# Load the input GeoTIFF\n",
    "with rasterio.open(tiff_files_2022_m[0]) as src:\n",
    "    # Read the input data as a NumPy array\n",
    "    input_data = src.read(1)\n",
    "\n",
    "    # Create a mask for non-zero pixels in the input data\n",
    "    non_zero_mask = (input_data != 0)\n",
    "\n",
    "    # Assign the predicted labels and placeholder value to the corresponding pixels in the output array\n",
    "    output_data[non_zero_mask] = output_data[non_zero_mask]\n",
    "\n",
    "    # Update the profile of the input GeoTIFF to reflect the changes\n",
    "    profile = src.profile\n",
    "\n",
    "# Save the output data as a new GeoTIFF file\n",
    "with rasterio.open('Busia_2022_7.tif', 'w', **profile) as dst:\n",
    "    dst.write(output_data, 1)"
   ]
  },
  {
   "cell_type": "code",
   "execution_count": 25,
   "id": "f6a2b363-84e4-4ed8-99ac-483e34be8e7c",
   "metadata": {},
   "outputs": [],
   "source": [
    "Busia_2022_nan_mask_2 = np.isnan(stacked_vi_2022_2d_ml_m_2).all(axis=1)\n",
    "\n",
    "# Create a placeholder label for fully NaN time series\n",
    "placeholder_value_2 = -9999  # Set the desired placeholder label for fully NaN time series\n",
    "# stacked_vi_2022_2d_ml_m[np.isnan(stacked_vi_2022_2d_ml_m)] = placeholder_value\n",
    "# Predict labels for the unseen data, considering only non-NaN time series\n",
    "predicted_labels_Busia_2 = np.where(Busia_2022_nan_mask_2, placeholder_value_2, RF_Busia_18_22.predict(stacked_vi_2022_2d_ml_m_2))"
   ]
  },
  {
   "cell_type": "code",
   "execution_count": 26,
   "id": "48d28aef-10d9-4fe8-a325-4766e6325fac",
   "metadata": {},
   "outputs": [
    {
     "name": "stdout",
     "output_type": "stream",
     "text": [
      "(8952, 5846)\n"
     ]
    }
   ],
   "source": [
    "# Load the input GeoTIFF file\n",
    "with rasterio.open(tiff_files_2022_m[0]) as src:\n",
    "    profile = src.profile  # Get the profile of the input GeoTIFF\n",
    "    r, c = src.shape  # Get the spatial dimensions of the input GeoTIFF\n",
    "\n",
    "    # Read the input data as a NumPy array\n",
    "    input_data = src.read()\n",
    "\n",
    "# Reshape the predicted labels array to match the spatial dimensions of the input data\n",
    "predicted_labels_2d_2 = predicted_labels_Busia_2.reshape((r, c))\n",
    "print(predicted_labels_2d_2.shape)"
   ]
  },
  {
   "cell_type": "code",
   "execution_count": 27,
   "id": "1898cccd-dbda-42d7-a68d-b775c5bf116c",
   "metadata": {},
   "outputs": [
    {
     "name": "stdout",
     "output_type": "stream",
     "text": [
      "(8952, 5846)\n"
     ]
    }
   ],
   "source": [
    "# Add the predicted labels as a new band to the input data\n",
    "output_data = np.zeros((r, c), dtype=input_data.dtype)\n",
    "\n",
    "# Assign the predicted labels to the corresponding pixels in the output array\n",
    "output_data = np.where(input_data[0, :, :] != 0, predicted_labels_2d_2, output_data)\n",
    "print(output_data.shape)\n",
    "\n",
    "# Update the profile of the input GeoTIFF to reflect the changes\n",
    "profile.update(count=1)\n",
    "\n",
    "# Save the output data as a new GeoTIFF file\n",
    "with rasterio.open('Busia_2022_3.tif', 'w', **profile) as dst:\n",
    "    dst.write(output_data, 1)  # Write the output data to the first band of the output GeoTIFF"
   ]
  },
  {
   "cell_type": "code",
   "execution_count": 31,
   "id": "cc66ab2c-95ab-4f58-b42f-c98f03482cd2",
   "metadata": {},
   "outputs": [],
   "source": [
    "predicted_labels_2d_3 = np.clip(predicted_labels_2d_2, 0, 3)\n",
    "\n",
    "# Create a mask for pixels where the predicted labels are NaN\n",
    "nan_mask = np.isnan(predicted_labels_2d_3)\n",
    "\n",
    "# Set the placeholder value (-9999) for NaN pixels\n",
    "predicted_labels_2d_3[nan_mask] = -9999"
   ]
  },
  {
   "cell_type": "code",
   "execution_count": 35,
   "id": "3050f053-38fa-4157-b570-1d3f0afc5b8e",
   "metadata": {},
   "outputs": [
    {
     "data": {
      "text/plain": [
       "array([[1., 1., 1., ..., 1., 1., 1.],\n",
       "       [1., 1., 1., ..., 1., 1., 1.],\n",
       "       [1., 1., 1., ..., 1., 1., 1.],\n",
       "       ...,\n",
       "       [1., 1., 1., ..., 1., 1., 1.],\n",
       "       [1., 1., 1., ..., 1., 1., 1.],\n",
       "       [1., 1., 1., ..., 1., 1., 1.]])"
      ]
     },
     "execution_count": 35,
     "metadata": {},
     "output_type": "execute_result"
    }
   ],
   "source": [
    "predicted_labels_2d_3"
   ]
  },
  {
   "cell_type": "code",
   "execution_count": null,
   "id": "42e76852-8412-4f58-ad44-4df0803f600f",
   "metadata": {},
   "outputs": [],
   "source": []
  }
 ],
 "metadata": {
  "kernelspec": {
   "display_name": "Python 3 (ipykernel)",
   "language": "python",
   "name": "python3"
  },
  "language_info": {
   "codemirror_mode": {
    "name": "ipython",
    "version": 3
   },
   "file_extension": ".py",
   "mimetype": "text/x-python",
   "name": "python",
   "nbconvert_exporter": "python",
   "pygments_lexer": "ipython3",
   "version": "3.10.5"
  }
 },
 "nbformat": 4,
 "nbformat_minor": 5
}
