{
 "cells": [
  {
   "cell_type": "code",
   "execution_count": 2,
   "id": "49e21347-9d25-45b5-bc2b-3833b09a6581",
   "metadata": {},
   "outputs": [],
   "source": [
    "# This code implements the trained model to classify an affected region.\n",
    "\n",
    "# Importing the libraries\n",
    "import os\n",
    "import re\n",
    "import datetime\n",
    "import rasterio\n",
    "import numpy as np\n",
    "import multiprocessing as mp\n",
    "from multiprocessing import Pool\n",
    "import matplotlib.pyplot as plt\n",
    "import pickle"
   ]
  },
  {
   "cell_type": "code",
   "execution_count": 3,
   "id": "214faf41-618a-44d5-8089-a6b8d08e649f",
   "metadata": {},
   "outputs": [],
   "source": [
    "directory_2020_m = \"data/Busia/mVIs_Narok_North_East_monthly_2020\"\n",
    "\n",
    "# Get a list of all the TIFF files in the directory\n",
    "tiff_files_2020_m = sorted([os.path.join(directory_2020_m, file) for file in os.listdir(directory_2020_m) if file.endswith(\".tif\")])"
   ]
  },
  {
   "cell_type": "code",
   "execution_count": 4,
   "id": "77941353-c09b-4119-8c4f-07cdcc5e6cb2",
   "metadata": {},
   "outputs": [],
   "source": [
    "num_processes = mp.cpu_count()\n",
    "\n",
    "# Define a function to read data from a single file\n",
    "def read_data(file):\n",
    "    with rasterio.open(file) as src:\n",
    "        data = src.read()\n",
    "        data = np.nan_to_num(data, nan=np.nan, posinf=np.nan, neginf=np.nan)\n",
    "        return data"
   ]
  },
  {
   "cell_type": "code",
   "execution_count": 6,
   "id": "7217d61e-581d-4ea8-92b7-ba04b88cb9af",
   "metadata": {},
   "outputs": [
    {
     "name": "stdout",
     "output_type": "stream",
     "text": [
      "(3, 12, 11289, 9467)\n"
     ]
    }
   ],
   "source": [
    "with Pool(num_processes) as pool:\n",
    "    # Apply the read_data() function to each file in parallel\n",
    "    data_arrays_2020_m = pool.map(read_data, tiff_files_2020_m)\n",
    "\n",
    "# Stack the data arrays along a new axis to create the datacube\n",
    "datacube_2020_m = np.stack(data_arrays_2020_m, axis=1)\n",
    "print(datacube_2020_m.shape)"
   ]
  },
  {
   "cell_type": "code",
   "execution_count": 7,
   "id": "d54e40b8-d20c-4503-aa37-0f22a23b03d9",
   "metadata": {},
   "outputs": [
    {
     "name": "stdout",
     "output_type": "stream",
     "text": [
      "(12, 11289, 9467) (12, 11289, 9467) (12, 11289, 9467)\n"
     ]
    }
   ],
   "source": [
    "NDVI_stack_2020 = datacube_2020_m[0,:,:,:]\n",
    "NDMI_stack_2020 = datacube_2020_m[1, :, :, :]\n",
    "GVI_stack_2020 = datacube_2020_m[2, :, :, :]\n",
    "\n",
    "print(NDVI_stack_2020.shape,NDMI_stack_2020.shape,GVI_stack_2020.shape)"
   ]
  },
  {
   "cell_type": "code",
   "execution_count": 8,
   "id": "d5a307e3-445a-4f52-ac5b-4780fa04e49a",
   "metadata": {},
   "outputs": [],
   "source": [
    "# Finding NaN values and exchange them with the mean.\n",
    "\n",
    "def replace_nan_with_mean(pixel):\n",
    "    time_series = pixel[:]\n",
    "    valid_values = time_series[np.logical_not(np.isnan(time_series))]\n",
    "    \n",
    "    if np.isnan(valid_values).all():\n",
    "        # Return the original time series if it's fully NaN\n",
    "        return time_series\n",
    "    \n",
    "    mean_value = np.nanmean(valid_values)\n",
    "    time_series[np.isnan(time_series)] = mean_value\n",
    "    \n",
    "    return time_series"
   ]
  },
  {
   "cell_type": "code",
   "execution_count": 9,
   "id": "891d4f7e-ea56-4200-9c57-a2b61a7c2d74",
   "metadata": {},
   "outputs": [],
   "source": [
    "# Implementing the fucntion on different bands\n",
    "\n",
    "t, r, c = NDVI_stack_2020.shape\n",
    "\n",
    "# Reshape the stack to a 2D array for parallel processing\n",
    "NDVI_stack_2020_reshaped = NDVI_stack_2020.reshape(t, -1)\n",
    "NDMI_stack_2020_reshaped = NDMI_stack_2020.reshape(t, -1)\n",
    "GVI_stack_2020_reshaped = GVI_stack_2020.reshape(t, -1)\n",
    "\n",
    "# Determine the number of processes to use\n",
    "\n",
    "# Create a pool of workers\n",
    "pool = Pool(num_processes)\n",
    "\n",
    "# Apply the function to each pixel in parallel\n",
    "processed_pixels_ndvi = pool.map(replace_nan_with_mean, NDVI_stack_2020_reshaped.T)\n",
    "processed_pixels_ndmi = pool.map(replace_nan_with_mean, NDMI_stack_2020_reshaped.T)\n",
    "processed_pixels_gvi = pool.map(replace_nan_with_mean, GVI_stack_2020_reshaped.T)\n",
    "\n",
    "# Close the pool to release resources\n",
    "pool.close()\n",
    "pool.join()\n",
    "\n",
    "# Reshape the processed pixels back to the original shape\n",
    "NDVI_stack_2020_processed = np.array(processed_pixels_ndvi).T.reshape(t, r, c)\n",
    "NDMI_stack_2020_processed = np.array(processed_pixels_ndmi).T.reshape(t, r, c)\n",
    "GVI_stack_2020_processed = np.array(processed_pixels_gvi).T.reshape(t, r, c)"
   ]
  },
  {
   "cell_type": "code",
   "execution_count": 11,
   "id": "fddf47ff-31b3-49ac-baea-d3bfad66a53b",
   "metadata": {},
   "outputs": [
    {
     "name": "stdout",
     "output_type": "stream",
     "text": [
      "(36, 11289, 9467)\n"
     ]
    }
   ],
   "source": [
    "# Concatenating the processed bands\n",
    "\n",
    "stacked_vi_2020 = np.concatenate((NDVI_stack_2020_processed, NDMI_stack_2020_processed, GVI_stack_2020_processed), axis=0)\n"
   ]
  },
  {
   "cell_type": "code",
   "execution_count": 12,
   "id": "ac7a43fe-8978-4423-a23b-cb8af3a1f35f",
   "metadata": {},
   "outputs": [
    {
     "name": "stdout",
     "output_type": "stream",
     "text": [
      "(11289, 9467, 36)\n"
     ]
    }
   ],
   "source": [
    "# Reshaping to a 2d tuple\n",
    "\n",
    "stacked_vi_2020_2d = np.moveaxis(stacked_vi_2020, 0, -1)\n"
   ]
  },
  {
   "cell_type": "code",
   "execution_count": 15,
   "id": "b5dc63f4-ee9a-4350-8e21-cd7144cf7e2b",
   "metadata": {},
   "outputs": [
    {
     "name": "stdout",
     "output_type": "stream",
     "text": [
      "(106872963, 36)\n"
     ]
    }
   ],
   "source": [
    "# Sorting all time series in order of NDVI, NDMI, and GVI\n",
    "\n",
    "stacked_vi_2020_2d_ml_m = stacked_vi_2020_2d.reshape(r*c,t*3)\n"
   ]
  },
  {
   "cell_type": "code",
   "execution_count": 16,
   "id": "69de2f40-b8eb-4eb2-8580-b4ebbd1dd1ef",
   "metadata": {},
   "outputs": [],
   "source": [
    "## Load the model from the file\n",
    "with open('RF_Narok_NE_18_22.pkl', 'rb') as f:\n",
    "    RF_Narok_NE_18_22 = pickle.load(f)"
   ]
  },
  {
   "cell_type": "code",
   "execution_count": 21,
   "id": "8d39e645-4ec2-4818-8657-6e636077365f",
   "metadata": {},
   "outputs": [
    {
     "name": "stdout",
     "output_type": "stream",
     "text": [
      "[False False False ... False False False]\n"
     ]
    }
   ],
   "source": [
    "# Finding no data pixels \n",
    "\n",
    "nan_mask = np.isnan(stacked_vi_2020_2d_ml_m).all(axis=1)\n"
   ]
  },
  {
   "cell_type": "code",
   "execution_count": 20,
   "id": "1e624cb9-65b3-45b4-ad3d-b6b869046626",
   "metadata": {},
   "outputs": [],
   "source": [
    "# Create a placeholder label for fully NaN time series\n",
    "placeholder_value = -9999  # Set the desired placeholder label for fully NaN time series\n",
    "stacked_vi_2020_2d_ml_m[np.isnan(stacked_vi_2020_2d_ml_m)] = placeholder_value\n",
    "\n",
    "# Predict labels for the unseen data, considering only non-NaN time series\n",
    "predicted_labels = np.where(nan_mask, placeholder_value, RF_Narok_NE_18_22.predict(stacked_vi_2020_2d_ml_m))"
   ]
  },
  {
   "cell_type": "code",
   "execution_count": 23,
   "id": "5ddac965-9642-4476-8b5d-7ee7d878b81e",
   "metadata": {},
   "outputs": [
    {
     "name": "stdout",
     "output_type": "stream",
     "text": [
      "(106872963,)\n",
      "(106872963, 36)\n",
      "(11289, 9467)\n"
     ]
    }
   ],
   "source": [
    "#Exporting the classified map\n",
    "\n",
    "# Load the input GeoTIFF file\n",
    "with rasterio.open(tiff_files_2020_m[0]) as src:\n",
    "    profile = src.profile  # Get the profile of the input GeoTIFF\n",
    "    r, c = src.shape  # Get the spatial dimensions of the input GeoTIFF\n",
    "\n",
    "    # Read the input data as a NumPy array\n",
    "    input_data = src.read()\n",
    "\n",
    "# Reshape the predicted labels array to match the spatial dimensions of the input data\n",
    "predicted_labels_2d = predicted_labels.reshape((r, c))\n"
   ]
  },
  {
   "cell_type": "code",
   "execution_count": 24,
   "id": "645a91d0-c050-4126-83d5-d0e100fea429",
   "metadata": {},
   "outputs": [
    {
     "name": "stdout",
     "output_type": "stream",
     "text": [
      "(11289, 9467)\n"
     ]
    }
   ],
   "source": [
    "# Add the predicted labels as a new band to the input data\n",
    "output_data = np.zeros((r, c), dtype=input_data.dtype)\n",
    "\n",
    "# Assign the predicted labels to the corresponding pixels in the output array\n",
    "output_data = np.where(input_data[0, :, :] != 0, predicted_labels_2d, output_data)\n",
    "print(output_data.shape)\n",
    "\n",
    "# Update the profile of the input GeoTIFF to reflect the changes\n",
    "profile.update(count=1)\n",
    "\n",
    "# Save the output data as a new GeoTIFF file\n",
    "with rasterio.open('Narok_NE_2020_1.tif', 'w', **profile) as dst:\n",
    "    dst.write(output_data, 1)"
   ]
  }
 ],
 "metadata": {
  "kernelspec": {
   "display_name": "Python 3 (ipykernel)",
   "language": "python",
   "name": "python3"
  },
  "language_info": {
   "codemirror_mode": {
    "name": "ipython",
    "version": 3
   },
   "file_extension": ".py",
   "mimetype": "text/x-python",
   "name": "python",
   "nbconvert_exporter": "python",
   "pygments_lexer": "ipython3",
   "version": "3.10.9"
  }
 },
 "nbformat": 4,
 "nbformat_minor": 5
}
